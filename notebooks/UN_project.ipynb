{
 "cells": [
  {
   "cell_type": "code",
   "execution_count": null,
   "id": "48ea3c03",
   "metadata": {},
   "outputs": [],
   "source": [
    "import pandas as pd\n",
    "import numpy as np\n",
    "import matplotlib.pyplot as plt\n",
    "import seaborn as sns"
   ]
  },
  {
   "cell_type": "code",
   "execution_count": null,
   "id": "a1dd1a94",
   "metadata": {},
   "outputs": [],
   "source": [
    "%matplotlib inline"
   ]
  },
  {
   "cell_type": "code",
   "execution_count": null,
   "id": "f8a21710",
   "metadata": {},
   "outputs": [],
   "source": [
    "gdp_df = pd.read_csv('../data/gdp_percapita.csv')"
   ]
  },
  {
   "cell_type": "code",
   "execution_count": null,
   "id": "90941549",
   "metadata": {},
   "outputs": [],
   "source": [
    "gdp_df.head(6)"
   ]
  },
  {
   "cell_type": "code",
   "execution_count": null,
   "id": "0cb5fee3",
   "metadata": {},
   "outputs": [],
   "source": [
    "#skipped bad lines, not correct bc it just hides problem\n",
    "#internet_df = pd.read_csv('../data/internet_use.csv', on_bad_lines='skip')\n",
    "\n",
    "#find a way to read specific lines or partially read the csv\n",
    "internet_df = pd.read_csv('../data/internet_use.csv', nrows = 4495)"
   ]
  },
  {
   "cell_type": "code",
   "execution_count": null,
   "id": "26a26057",
   "metadata": {},
   "outputs": [],
   "source": [
    "internet_df.head(6)"
   ]
  },
  {
   "cell_type": "markdown",
   "id": "424350ee",
   "metadata": {},
   "source": [
    "## 98. Look at the shape of each DataFrame - how many rows? How many columns?\n",
    "\n",
    "gdp = (7176, 4)\n",
    "\n",
    "internet = (4495, 4)"
   ]
  },
  {
   "cell_type": "code",
   "execution_count": null,
   "id": "d5591f45",
   "metadata": {},
   "outputs": [],
   "source": [
    "print(gdp_df.shape)\n",
    "internet_df.shape"
   ]
  },
  {
   "cell_type": "code",
   "execution_count": null,
   "id": "a8d43cb9",
   "metadata": {},
   "outputs": [],
   "source": [
    "print(type(gdp_df))\n",
    "type(internet_df)"
   ]
  },
  {
   "cell_type": "markdown",
   "id": "f01353b9",
   "metadata": {},
   "source": [
    "## 6.\tTake a look at the datatypes for the columns in each DataFrame."
   ]
  },
  {
   "cell_type": "code",
   "execution_count": null,
   "id": "c37a0954",
   "metadata": {},
   "outputs": [],
   "source": [
    "gdp_df.dtypes"
   ]
  },
  {
   "cell_type": "code",
   "execution_count": null,
   "id": "84202323",
   "metadata": {},
   "outputs": [],
   "source": [
    "internet_df.dtypes"
   ]
  },
  {
   "cell_type": "code",
   "execution_count": null,
   "id": "73496454",
   "metadata": {},
   "outputs": [],
   "source": [
    "# need this to merge dfs later\n",
    "internet_df['Year'] = pd.to_numeric(internet_df['Year'])"
   ]
  },
  {
   "cell_type": "code",
   "execution_count": null,
   "id": "17da89d2",
   "metadata": {},
   "outputs": [],
   "source": [
    "internet_df.dtypes"
   ]
  },
  {
   "cell_type": "code",
   "execution_count": null,
   "id": "acc290ce",
   "metadata": {},
   "outputs": [],
   "source": [
    "print(gdp_df.tail(10))\n",
    "internet_df.tail(10)"
   ]
  },
  {
   "cell_type": "code",
   "execution_count": null,
   "id": "da692da0",
   "metadata": {},
   "outputs": [],
   "source": [
    "gdp_df = gdp_df.drop(columns = ['Value Footnotes'])"
   ]
  },
  {
   "cell_type": "code",
   "execution_count": null,
   "id": "088845c6",
   "metadata": {},
   "outputs": [],
   "source": [
    "gdp_df.head(2)"
   ]
  },
  {
   "cell_type": "code",
   "execution_count": null,
   "id": "519f3061",
   "metadata": {},
   "outputs": [],
   "source": [
    "internet_df = internet_df.drop(columns = ['Value Footnotes'])"
   ]
  },
  {
   "cell_type": "code",
   "execution_count": null,
   "id": "4abee018",
   "metadata": {},
   "outputs": [],
   "source": [
    "internet_df.head(2)"
   ]
  },
  {
   "cell_type": "code",
   "execution_count": null,
   "id": "19be2935",
   "metadata": {},
   "outputs": [],
   "source": [
    "gdp_df.columns = ['Country', 'Year', 'GDP_Per_Capita']"
   ]
  },
  {
   "cell_type": "code",
   "execution_count": null,
   "id": "3e7d6e26",
   "metadata": {},
   "outputs": [],
   "source": [
    "gdp_df.head(2)"
   ]
  },
  {
   "cell_type": "code",
   "execution_count": null,
   "id": "f8cb74a2",
   "metadata": {},
   "outputs": [],
   "source": [
    "internet_df.columns = ['Country', 'Year', 'Internet_Users_Pct']"
   ]
  },
  {
   "cell_type": "code",
   "execution_count": null,
   "id": "81ed34be",
   "metadata": {},
   "outputs": [],
   "source": [
    "internet_df.head(2)"
   ]
  },
  {
   "cell_type": "code",
   "execution_count": null,
   "id": "59e87457",
   "metadata": {},
   "outputs": [],
   "source": [
    "gdp_and_internet_use = pd.merge(gdp_df,internet_df, how = 'outer', on = ['Country', 'Year'])"
   ]
  },
  {
   "cell_type": "code",
   "execution_count": null,
   "id": "ed4bc630",
   "metadata": {},
   "outputs": [],
   "source": [
    "gdp_and_internet_use.head()"
   ]
  },
  {
   "cell_type": "code",
   "execution_count": null,
   "id": "52779099",
   "metadata": {},
   "outputs": [],
   "source": [
    "#why is zimbabwe no longer last, i checked and it is there\n",
    "gdp_and_internet_use.tail()"
   ]
  },
  {
   "cell_type": "code",
   "execution_count": null,
   "id": "e9be0235",
   "metadata": {},
   "outputs": [],
   "source": [
    "gdp_and_internet_use.loc[(gdp_and_internet_use.Country == 'Zimbabwe')]"
   ]
  },
  {
   "cell_type": "code",
   "execution_count": null,
   "id": "54d59a1b",
   "metadata": {},
   "outputs": [],
   "source": [
    "#dont understand this output\n",
    "gdp_and_internet_use.shape"
   ]
  },
  {
   "cell_type": "code",
   "execution_count": null,
   "id": "f2df7ba1",
   "metadata": {},
   "outputs": [],
   "source": [
    "gdp_net_sub = gdp_and_internet_use.loc[gdp_and_internet_use['Year'].isin([2004, 2009, 2014])]\n",
    "gdp_net_sub"
   ]
  },
  {
   "cell_type": "code",
   "execution_count": null,
   "id": "670986d6",
   "metadata": {},
   "outputs": [],
   "source": [
    "gdp_net_2004 = gdp_net_sub.loc[gdp_net_sub['Year'].isin([2004])]\n",
    "gdp_net_2004.head(2)"
   ]
  },
  {
   "cell_type": "code",
   "execution_count": null,
   "id": "b00b0557",
   "metadata": {},
   "outputs": [],
   "source": [
    "gdp_net_2009 = gdp_net_sub.loc[gdp_net_sub['Year'].isin([2009])]\n",
    "gdp_net_2009.head(2)"
   ]
  },
  {
   "cell_type": "code",
   "execution_count": null,
   "id": "7e086d6a",
   "metadata": {},
   "outputs": [],
   "source": [
    "gdp_net_2014 = gdp_net_sub.loc[gdp_net_sub['Year'].isin([2014])]\n",
    "gdp_net_2014.head(2)"
   ]
  },
  {
   "cell_type": "code",
   "execution_count": null,
   "id": "ab6c1200",
   "metadata": {},
   "outputs": [],
   "source": [
    "type(gdp_net_2014)"
   ]
  },
  {
   "cell_type": "code",
   "execution_count": null,
   "id": "022159f8",
   "metadata": {},
   "outputs": [],
   "source": [
    "#reset index to get rid of skipped values and have 0-280 index\n",
    "gdp_net_2014 = gdp_net_2014.reset_index(drop=True)\n",
    "gdp_net_2014"
   ]
  },
  {
   "cell_type": "markdown",
   "id": "8fb42732",
   "metadata": {},
   "source": [
    "## 15. country with highest % net users in 2014\n",
    "\n",
    "Iceland 98%"
   ]
  },
  {
   "cell_type": "code",
   "execution_count": null,
   "id": "b1cde567",
   "metadata": {},
   "outputs": [],
   "source": [
    "gdp_net_2014.Internet_Users_Pct.max()"
   ]
  },
  {
   "cell_type": "code",
   "execution_count": null,
   "id": "6cd6ad83",
   "metadata": {},
   "outputs": [],
   "source": [
    "gdp_net_2014.Internet_Users_Pct.idxmax()"
   ]
  },
  {
   "cell_type": "code",
   "execution_count": null,
   "id": "87f74f73",
   "metadata": {},
   "outputs": [],
   "source": [
    "display(gdp_net_2014.iloc[93])"
   ]
  },
  {
   "cell_type": "code",
   "execution_count": null,
   "id": "ba7d2eb7",
   "metadata": {},
   "outputs": [],
   "source": [
    "#same output as the above 3 cells, but in one cell \n",
    "gdp_net_2014.nlargest(1, 'Internet_Users_Pct')"
   ]
  },
  {
   "cell_type": "markdown",
   "id": "7b684146",
   "metadata": {},
   "source": [
    "## 16. country with lowest % net users in 2014\n",
    "\n",
    "Dem. People's Rep. of Korea 0%"
   ]
  },
  {
   "cell_type": "code",
   "execution_count": null,
   "id": "4226bbec",
   "metadata": {},
   "outputs": [],
   "source": [
    "gdp_net_2014.Internet_Users_Pct.min()"
   ]
  },
  {
   "cell_type": "code",
   "execution_count": null,
   "id": "3228f8c1",
   "metadata": {},
   "outputs": [],
   "source": [
    "gdp_net_2014.Internet_Users_Pct.idxmin()"
   ]
  },
  {
   "cell_type": "code",
   "execution_count": null,
   "id": "bab83a25",
   "metadata": {},
   "outputs": [],
   "source": [
    "display(gdp_net_2014.iloc[250])"
   ]
  },
  {
   "cell_type": "code",
   "execution_count": null,
   "id": "48713144",
   "metadata": {},
   "outputs": [],
   "source": [
    "# same as above 3 cells, but in one cell\n",
    "gdp_net_2014.nsmallest(1, 'Internet_Users_Pct')"
   ]
  },
  {
   "cell_type": "code",
   "execution_count": null,
   "id": "659c0625",
   "metadata": {},
   "outputs": [],
   "source": [
    "gdp_net_2004.head()"
   ]
  },
  {
   "cell_type": "code",
   "execution_count": null,
   "id": "0fa532e4",
   "metadata": {},
   "outputs": [],
   "source": [
    "gdp_net_2004 = gdp_net_2004.reset_index(drop=True)\n",
    "gdp_net_2004"
   ]
  },
  {
   "cell_type": "markdown",
   "id": "083c3b44",
   "metadata": {},
   "source": [
    "## 17. country with highest net users in 2004\n",
    "Sweden 84%"
   ]
  },
  {
   "cell_type": "code",
   "execution_count": null,
   "id": "242db704",
   "metadata": {},
   "outputs": [],
   "source": [
    "gdp_net_2004.Internet_Users_Pct.max()"
   ]
  },
  {
   "cell_type": "code",
   "execution_count": null,
   "id": "87604868",
   "metadata": {},
   "outputs": [],
   "source": [
    "gdp_net_2004.Internet_Users_Pct.idxmax()"
   ]
  },
  {
   "cell_type": "code",
   "execution_count": null,
   "id": "eccab532",
   "metadata": {
    "scrolled": true
   },
   "outputs": [],
   "source": [
    "display(gdp_net_2004.iloc[207])"
   ]
  },
  {
   "cell_type": "code",
   "execution_count": null,
   "id": "1af67fd9",
   "metadata": {},
   "outputs": [],
   "source": [
    "gdp_net_2004.nlargest(1, 'Internet_Users_Pct')"
   ]
  },
  {
   "cell_type": "markdown",
   "id": "f1d2724d",
   "metadata": {},
   "source": [
    "## 17. country with lowest net users in 2004\n",
    "\n",
    "Dem. People's Rep. of Korea 0%"
   ]
  },
  {
   "cell_type": "code",
   "execution_count": null,
   "id": "25aeb6e1",
   "metadata": {},
   "outputs": [],
   "source": [
    "gdp_net_2004.Internet_Users_Pct.min()"
   ]
  },
  {
   "cell_type": "code",
   "execution_count": null,
   "id": "d6aa7aea",
   "metadata": {},
   "outputs": [],
   "source": [
    "gdp_net_2004.Internet_Users_Pct.idxmin()"
   ]
  },
  {
   "cell_type": "code",
   "execution_count": null,
   "id": "538f55d9",
   "metadata": {
    "scrolled": true
   },
   "outputs": [],
   "source": [
    "display(gdp_net_2004.iloc[244])"
   ]
  },
  {
   "cell_type": "code",
   "execution_count": null,
   "id": "e18f9a49",
   "metadata": {},
   "outputs": [],
   "source": [
    "gdp_net_2004.nsmallest(1, 'Internet_Users_Pct')"
   ]
  },
  {
   "cell_type": "markdown",
   "id": "1489ad90",
   "metadata": {},
   "source": [
    "## 17. country with highest net users in 2009\n",
    "Iceland 93%"
   ]
  },
  {
   "cell_type": "code",
   "execution_count": null,
   "id": "c7b5a2d6",
   "metadata": {},
   "outputs": [],
   "source": [
    "gdp_net_2009"
   ]
  },
  {
   "cell_type": "code",
   "execution_count": null,
   "id": "537d3272",
   "metadata": {},
   "outputs": [],
   "source": [
    "gdp_net_2009 = gdp_net_2009.reset_index(drop=True)\n",
    "gdp_net_2009"
   ]
  },
  {
   "cell_type": "code",
   "execution_count": null,
   "id": "da7216a5",
   "metadata": {},
   "outputs": [],
   "source": [
    "gdp_net_2009.Internet_Users_Pct.max()"
   ]
  },
  {
   "cell_type": "code",
   "execution_count": null,
   "id": "044201a1",
   "metadata": {},
   "outputs": [],
   "source": [
    "gdp_net_2009.Internet_Users_Pct.idxmax()"
   ]
  },
  {
   "cell_type": "code",
   "execution_count": null,
   "id": "990970d1",
   "metadata": {
    "scrolled": true
   },
   "outputs": [],
   "source": [
    "display(gdp_net_2009.iloc[92])"
   ]
  },
  {
   "cell_type": "code",
   "execution_count": null,
   "id": "e59e8cca",
   "metadata": {},
   "outputs": [],
   "source": [
    "gdp_net_2009.nlargest(1, 'Internet_Users_Pct')"
   ]
  },
  {
   "cell_type": "markdown",
   "id": "9c99e86f",
   "metadata": {},
   "source": [
    "## 17. country with lowest net users in 2009\n",
    "\n",
    "Dem. People's Rep. of Korea 0%"
   ]
  },
  {
   "cell_type": "code",
   "execution_count": null,
   "id": "372f2dc1",
   "metadata": {},
   "outputs": [],
   "source": [
    "gdp_net_2009.Internet_Users_Pct.min()"
   ]
  },
  {
   "cell_type": "code",
   "execution_count": null,
   "id": "73e4cc21",
   "metadata": {},
   "outputs": [],
   "source": [
    "gdp_net_2009.Internet_Users_Pct.idxmin()"
   ]
  },
  {
   "cell_type": "code",
   "execution_count": null,
   "id": "3cdfe13b",
   "metadata": {},
   "outputs": [],
   "source": [
    "display(gdp_net_2009.iloc[247])"
   ]
  },
  {
   "cell_type": "markdown",
   "id": "3b800170",
   "metadata": {},
   "source": [
    "## 18. country with highest gdp in 2014\n",
    "\n",
    "Macao SAR, China\n",
    "gdp - 155201"
   ]
  },
  {
   "cell_type": "code",
   "execution_count": null,
   "id": "ad14be16",
   "metadata": {},
   "outputs": [],
   "source": [
    "gdp_net_2009.nsmallest(1, 'Internet_Users_Pct')"
   ]
  },
  {
   "cell_type": "code",
   "execution_count": null,
   "id": "b9d8ccfb",
   "metadata": {},
   "outputs": [],
   "source": [
    "gdp_net_2014.head(2)"
   ]
  },
  {
   "cell_type": "code",
   "execution_count": null,
   "id": "5bb1022c",
   "metadata": {},
   "outputs": [],
   "source": [
    "gdp_net_2014.GDP_Per_Capita.max()"
   ]
  },
  {
   "cell_type": "code",
   "execution_count": null,
   "id": "5a193cbb",
   "metadata": {},
   "outputs": [],
   "source": [
    "gdp_net_2014.GDP_Per_Capita.idxmax()"
   ]
  },
  {
   "cell_type": "code",
   "execution_count": null,
   "id": "4f0e8577",
   "metadata": {
    "scrolled": true
   },
   "outputs": [],
   "source": [
    "display(gdp_net_2014.iloc[131])"
   ]
  },
  {
   "cell_type": "code",
   "execution_count": null,
   "id": "5445ded9",
   "metadata": {},
   "outputs": [],
   "source": [
    "gdp_net_2014.nlargest(1, 'GDP_Per_Capita')"
   ]
  },
  {
   "cell_type": "markdown",
   "id": "9c2b1b9c",
   "metadata": {},
   "source": [
    "## 20. country with lowest gdp in 2014\n",
    "Central African Republic \n",
    "\n",
    "gdp - 822"
   ]
  },
  {
   "cell_type": "code",
   "execution_count": null,
   "id": "cf480834",
   "metadata": {},
   "outputs": [],
   "source": [
    "gdp_net_2014.GDP_Per_Capita.min()"
   ]
  },
  {
   "cell_type": "code",
   "execution_count": null,
   "id": "b07b31f6",
   "metadata": {},
   "outputs": [],
   "source": [
    "gdp_net_2014.GDP_Per_Capita.idxmin()"
   ]
  },
  {
   "cell_type": "code",
   "execution_count": null,
   "id": "37fd52e6",
   "metadata": {
    "scrolled": true
   },
   "outputs": [],
   "source": [
    "display(gdp_net_2014.iloc[38])"
   ]
  },
  {
   "cell_type": "code",
   "execution_count": null,
   "id": "b67eaa8a",
   "metadata": {},
   "outputs": [],
   "source": [
    "gdp_net_2014.nsmallest(1, 'GDP_Per_Capita')"
   ]
  },
  {
   "cell_type": "markdown",
   "id": "fcc1390f",
   "metadata": {},
   "source": [
    "## 21.a 2004 Internet vs GDP"
   ]
  },
  {
   "cell_type": "code",
   "execution_count": null,
   "id": "4e37093f",
   "metadata": {},
   "outputs": [],
   "source": [
    "plt.scatter(gdp_net_2004.Internet_Users_Pct, gdp_net_2004.GDP_Per_Capita,\n",
    "            color = 'hotpink',\n",
    "            marker = 'd')\n",
    "plt.xlabel('Internet')\n",
    "plt.ylabel('GDP Per Capita')\n",
    "plt.title('2004 Internet vs GDP',\n",
    "          fontweight = 'bold')"
   ]
  },
  {
   "cell_type": "markdown",
   "id": "7ef93ec9",
   "metadata": {},
   "source": [
    "## 21.b 2009 Internet vs GDP"
   ]
  },
  {
   "cell_type": "code",
   "execution_count": null,
   "id": "f5784c49",
   "metadata": {},
   "outputs": [],
   "source": [
    "plt.scatter(gdp_net_2009.Internet_Users_Pct, gdp_net_2009.GDP_Per_Capita, \n",
    "            color = 'lime',\n",
    "            marker = 'P')\n",
    "plt.xlabel('Internet')\n",
    "plt.ylabel('GDP Per Capita')\n",
    "plt.title('2009 Internet vs GDP',\n",
    "          fontweight = 'bold')"
   ]
  },
  {
   "cell_type": "markdown",
   "id": "7f6265ce",
   "metadata": {},
   "source": [
    "## 21.c 2014 Internet vs GDP"
   ]
  },
  {
   "cell_type": "code",
   "execution_count": null,
   "id": "ffab534d",
   "metadata": {},
   "outputs": [],
   "source": [
    "plt.scatter(gdp_net_2014.Internet_Users_Pct, gdp_net_2014.GDP_Per_Capita,\n",
    "            color = 'darkblue',\n",
    "            marker = 'o')\n",
    "plt.xlabel('Internet')\n",
    "plt.ylabel('GDP Per Capita')\n",
    "plt.title('2014 Internet vs GDP', \n",
    "         fontweight = 'bold')"
   ]
  },
  {
   "cell_type": "code",
   "execution_count": null,
   "id": "b6ba1f62",
   "metadata": {},
   "outputs": [],
   "source": [
    "# to create plot with all three years, create lists for each year with relavent columns for x and y axis\n",
    "spdata_2004 = (list(gdp_net_2004['Internet_Users_Pct']), list(gdp_net_2004['GDP_Per_Capita']))\n",
    "spdata_2009 = (list(gdp_net_2009['Internet_Users_Pct']), list(gdp_net_2009['GDP_Per_Capita']))\n",
    "spdata_2014 = (list(gdp_net_2014['Internet_Users_Pct']), list(gdp_net_2014['GDP_Per_Capita']))"
   ]
  },
  {
   "cell_type": "code",
   "execution_count": null,
   "id": "27c54129",
   "metadata": {},
   "outputs": [],
   "source": [
    "# create tuple of above lists of each year, then zip tuple with color, markers, and group(name) for each year\n",
    "#ax line adds ange of x and y axis\n",
    "spdata_tuple = (spdata_2004, spdata_2009, spdata_2014)\n",
    "colors = ('hotpink', 'lime', 'darkblue')\n",
    "markers = ('d', 'P', 'o')\n",
    "groups = (2004, 2009, 2014)\n",
    "\n",
    "fig = plt.figure()\n",
    "ax = fig.add_subplot(1, 1, 1, facecolor='1.0')\n",
    "\n",
    "for data, clr, mrk, group in zip(spdata_tuple, colors, markers, groups):\n",
    "    x, y = data\n",
    "    ax.scatter(x, y, alpha = 0.5, color = clr, marker = mrk, edgecolors = 'none', s = 30, label = group)\n",
    "    \n",
    "plt.title('Internet Use vs GDP per Capita in 2004, 2009, 2014',\n",
    "          fontweight = 'bold')\n",
    "plt.xlabel('Percent Internet Use')\n",
    "plt.ylabel('GDP per Capita')\n",
    "plt.legend(loc = 2)"
   ]
  },
  {
   "cell_type": "code",
   "execution_count": null,
   "id": "7b7f96cd",
   "metadata": {},
   "outputs": [],
   "source": [
    "# simpler way to do the above graph in one step without making a tuple\n",
    "sns.scatterplot(data = gdp_net_sub, \n",
    "               x = 'Internet_Users_Pct',\n",
    "               y = 'GDP_Per_Capita',\n",
    "               hue = 'Year',\n",
    "               palette = ['hotpink', 'lime', 'darkblue'],\n",
    "               style = 'Year',\n",
    "               markers = ['d', 'X', 'o'])\n",
    "plt.xlabel('Percent Internet Use')\n",
    "plt.ylabel('GDP per Capita')\n",
    "plt.title('Internet Use vs GDP per Capita in 2004, 2009, 2014',\n",
    "          fontweight = 'bold')\n",
    "                "
   ]
  },
  {
   "cell_type": "markdown",
   "id": "27603614",
   "metadata": {},
   "source": [
    "### 22. Throughout the years the coorelation between internet use and gdp gets stronger and stonger, possibly because in moderntimes, businesses thrive on internet"
   ]
  },
  {
   "cell_type": "markdown",
   "id": "3af56e9a",
   "metadata": {},
   "source": [
    "## 23 Distribution of gdp per capita in 2014 unimodal? it sure is"
   ]
  },
  {
   "cell_type": "code",
   "execution_count": null,
   "id": "8943b18c",
   "metadata": {},
   "outputs": [],
   "source": [
    "plt.hist(gdp_net_2014.GDP_Per_Capita, \n",
    "        color = 'darkviolet',\n",
    "        edgecolor = 'black')\n",
    "plt.xlabel('GDP')\n",
    "plt.ylabel('Number of Countries')\n",
    "plt.title ('GDP in 2014', \n",
    "           fontweight = 'bold')"
   ]
  },
  {
   "cell_type": "markdown",
   "id": "8949419b",
   "metadata": {},
   "source": [
    "## 24. Distribution of Internet use in 2014 unimodal? nah"
   ]
  },
  {
   "cell_type": "code",
   "execution_count": null,
   "id": "ea33dcd4",
   "metadata": {},
   "outputs": [],
   "source": [
    "plt.hist(gdp_net_2014.Internet_Users_Pct, \n",
    "         color = 'midnightblue',\n",
    "        edgecolor = 'black')\n",
    "plt.xlabel('% Internet Users')\n",
    "plt.ylabel('Number of Countries')\n",
    "plt.title ('Internet Users in 2014',\n",
    "           fontweight = 'bold')"
   ]
  },
  {
   "cell_type": "markdown",
   "id": "f8a32dac",
   "metadata": {},
   "source": [
    "## 25. Top 5 countries for internet use in 2014\n",
    "\n",
    "Iceland, Bermuda, Norway, Denmark, Andorra"
   ]
  },
  {
   "cell_type": "code",
   "execution_count": null,
   "id": "6c9c0e02",
   "metadata": {},
   "outputs": [],
   "source": [
    "gdp_net_2014.sort_values(by = 'Internet_Users_Pct', ascending = False)"
   ]
  },
  {
   "cell_type": "code",
   "execution_count": null,
   "id": "6d8afea4",
   "metadata": {},
   "outputs": [],
   "source": [
    "top_5_internet = gdp_net_sub.loc[gdp_net_sub['Country'].isin(['Iceland', 'Bermuda', 'Norway', 'Denmark', 'Andorra'])]\n",
    "top_5_internet.head(2)"
   ]
  },
  {
   "cell_type": "code",
   "execution_count": null,
   "id": "2936e584",
   "metadata": {},
   "outputs": [],
   "source": [
    "top_5_internet.shape"
   ]
  },
  {
   "cell_type": "markdown",
   "id": "a91274bc",
   "metadata": {},
   "source": [
    "## 27. Greatest growth from 2004- 2014 - Andorra"
   ]
  },
  {
   "cell_type": "code",
   "execution_count": null,
   "id": "e42ef276",
   "metadata": {},
   "outputs": [],
   "source": [
    "# these graphs do show the trends but are obviously not quite right! \n",
    "grid_top_5 = sns.FacetGrid(top_5_internet, col = 'Year', row = 'Country')\n",
    "grid_top_5 = grid_top_5.map(sns.histplot, 'Internet_Users_Pct')"
   ]
  },
  {
   "cell_type": "markdown",
   "id": "773b34a8",
   "metadata": {},
   "source": [
    "## 28. 5 countries with lowest 2014 internet usage\n",
    "Dem. People's Rep, of Korea consistently had the least internet use from 2004-2014"
   ]
  },
  {
   "cell_type": "code",
   "execution_count": null,
   "id": "aea38a85",
   "metadata": {},
   "outputs": [],
   "source": [
    "gdp_net_2014.sort_values(by = 'Internet_Users_Pct')"
   ]
  },
  {
   "cell_type": "code",
   "execution_count": null,
   "id": "a01f127f",
   "metadata": {},
   "outputs": [],
   "source": [
    "bottom_5_internet = gdp_net_sub.loc[gdp_net_sub['Country'].isin([\"Dem. People's Rep. of Korea\", 'Eritrea', 'Timor-Leste', 'Burundi', 'Somalia'])]\n",
    "bottom_5_internet.head(2)"
   ]
  },
  {
   "cell_type": "code",
   "execution_count": null,
   "id": "bce0d27b",
   "metadata": {},
   "outputs": [],
   "source": [
    "bottom_5_internet.shape"
   ]
  },
  {
   "cell_type": "code",
   "execution_count": null,
   "id": "a9ae2ffe",
   "metadata": {},
   "outputs": [],
   "source": [
    "grid_bottom_5 = sns.FacetGrid(bottom_5_internet, col = 'Year', row = 'Country')\n",
    "grid_bottom_5 = grid_bottom_5.map(sns.histplot, 'Internet_Users_Pct')"
   ]
  },
  {
   "cell_type": "markdown",
   "id": "70db5e3d",
   "metadata": {},
   "source": [
    "## 29. Top 5 Countries in 2014 by GDP \n",
    "\n",
    "Macao SAR, China, Luxembourg, Qatar, Singapore, Bermuda"
   ]
  },
  {
   "cell_type": "code",
   "execution_count": null,
   "id": "186ded9c",
   "metadata": {},
   "outputs": [],
   "source": [
    "gdp_net_2014.sort_values(by = 'GDP_Per_Capita', ascending = False)"
   ]
  },
  {
   "cell_type": "code",
   "execution_count": null,
   "id": "efe8562f",
   "metadata": {},
   "outputs": [],
   "source": [
    "top_5_gdp = gdp_net_sub.loc[gdp_net_sub['Country'].isin(['Macao SAR, China', 'Luxembourg', 'Qatar', 'Singapore', 'Bermuda'])]\n",
    "top_5_gdp"
   ]
  },
  {
   "cell_type": "code",
   "execution_count": null,
   "id": "0b83a224",
   "metadata": {},
   "outputs": [],
   "source": [
    "top_5_gdp.shape"
   ]
  },
  {
   "cell_type": "code",
   "execution_count": null,
   "id": "32d7fc5c",
   "metadata": {},
   "outputs": [],
   "source": [
    "top_gdp_grid = sns.FacetGrid(top_5_gdp, col = 'Country')\n",
    "top_gdp_grid = top_gdp_grid.map(sns.histplot, 'Year', 'GDP_Per_Capita')"
   ]
  },
  {
   "cell_type": "markdown",
   "id": "c09f8740",
   "metadata": {},
   "source": [
    "## 96. Bottom 5 countries by GDP in 2014\n",
    "\n",
    "Central African Republic, Burundi, Somalia, Dem. Rep. Congo"
   ]
  },
  {
   "cell_type": "code",
   "execution_count": null,
   "id": "707be573",
   "metadata": {},
   "outputs": [],
   "source": [
    "gdp_net_2014.sort_values(by = 'GDP_Per_Capita',)"
   ]
  },
  {
   "cell_type": "code",
   "execution_count": null,
   "id": "37878c73",
   "metadata": {},
   "outputs": [],
   "source": [
    "bottom_5_gdp = gdp_net_sub.loc[gdp_net_sub['Country'].isin(['Central African Republic', 'Burundi', 'Somalia', 'Dem. Rep. Congo', 'Niger'])]\n",
    "bottom_5_gdp"
   ]
  },
  {
   "cell_type": "code",
   "execution_count": null,
   "id": "550f006e",
   "metadata": {},
   "outputs": [],
   "source": [
    "grid_bottom_gdp = sns.FacetGrid(bottom_5_gdp, col = 'Country')\n",
    "grid_bottom_gdp = grid_bottom_gdp.map(sns.histplot, 'Year', 'GDP_Per_Capita')"
   ]
  },
  {
   "cell_type": "markdown",
   "id": "a359c4d0",
   "metadata": {},
   "source": [
    "### 30. Macao gdp growth driven by economic growth from tourism and foreign investments, and Luxembourg is a major center for large private banking globally\n"
   ]
  },
  {
   "cell_type": "markdown",
   "id": "f51a62bd",
   "metadata": {},
   "source": [
    "## added df with population in thousands info"
   ]
  },
  {
   "cell_type": "code",
   "execution_count": null,
   "id": "52fb8c24",
   "metadata": {},
   "outputs": [],
   "source": [
    "pop_df = pd.read_csv('../data/population.csv')"
   ]
  },
  {
   "cell_type": "code",
   "execution_count": null,
   "id": "e835d7f7",
   "metadata": {},
   "outputs": [],
   "source": [
    "pop_df.shape"
   ]
  },
  {
   "cell_type": "code",
   "execution_count": null,
   "id": "4384e652",
   "metadata": {},
   "outputs": [],
   "source": [
    "pop_df.dtypes"
   ]
  },
  {
   "cell_type": "code",
   "execution_count": null,
   "id": "d8d585e7",
   "metadata": {},
   "outputs": [],
   "source": [
    "pop_df.tail(10)"
   ]
  },
  {
   "cell_type": "code",
   "execution_count": null,
   "id": "cc0a42a5",
   "metadata": {
    "scrolled": true
   },
   "outputs": [],
   "source": [
    "pop_df = pop_df.drop(columns = ['Value Footnotes'])"
   ]
  },
  {
   "cell_type": "code",
   "execution_count": null,
   "id": "1ce1ab93",
   "metadata": {},
   "outputs": [],
   "source": [
    "pop_df.head()"
   ]
  },
  {
   "cell_type": "code",
   "execution_count": null,
   "id": "5b67f8ca",
   "metadata": {},
   "outputs": [],
   "source": [
    "pop_df.columns = ['Country', 'Year', 'Pop_In_Thousands']"
   ]
  },
  {
   "cell_type": "code",
   "execution_count": null,
   "id": "cd80e908",
   "metadata": {},
   "outputs": [],
   "source": [
    "pop_df"
   ]
  },
  {
   "cell_type": "code",
   "execution_count": null,
   "id": "e35f668b",
   "metadata": {},
   "outputs": [],
   "source": [
    "# to merge 3 dfs, merge first two, then add third one as below\n",
    "#pd.merge(pd.merge(df1,df2,on='name'),df3,on='name')\n",
    "gdp_pop_net = pd.merge(pd.merge(gdp_df, pop_df, how = 'outer', on = ['Country', 'Year']), internet_df, how = 'outer', on =  ['Country', 'Year'])"
   ]
  },
  {
   "cell_type": "code",
   "execution_count": null,
   "id": "2e9fa530",
   "metadata": {},
   "outputs": [],
   "source": [
    "gdp_pop_net"
   ]
  },
  {
   "cell_type": "code",
   "execution_count": null,
   "id": "1edf0e46",
   "metadata": {},
   "outputs": [],
   "source": [
    "gpn_sub = gdp_pop_net.loc[gdp_pop_net['Year'].isin([2002, 2007, 2012])]\n",
    "gpn_sub"
   ]
  },
  {
   "cell_type": "code",
   "execution_count": null,
   "id": "4ce99864",
   "metadata": {},
   "outputs": [],
   "source": [
    "gpn_2002 = gpn_sub.loc[gpn_sub['Year'].isin([2002])]\n",
    "gpn_2002"
   ]
  },
  {
   "cell_type": "code",
   "execution_count": null,
   "id": "c3afeb94",
   "metadata": {},
   "outputs": [],
   "source": [
    "gpn_2007 = gpn_sub.loc[gpn_sub['Year'].isin([2007])]\n",
    "gpn_2007"
   ]
  },
  {
   "cell_type": "code",
   "execution_count": null,
   "id": "dedd3b55",
   "metadata": {},
   "outputs": [],
   "source": [
    "gpn_2012 = gpn_sub.loc[gpn_sub['Year'].isin([2012])]\n",
    "gpn_2012"
   ]
  },
  {
   "cell_type": "code",
   "execution_count": null,
   "id": "ecbb1842",
   "metadata": {},
   "outputs": [],
   "source": [
    "gpn_sub = gpn_sub.reset_index(drop=True)\n",
    "gpn_2002 = gpn_2002.reset_index(drop=True)\n",
    "gpn_2007 = gpn_2007.reset_index(drop=True)\n",
    "gpn_2012 = gpn_2012.reset_index(drop=True)"
   ]
  },
  {
   "cell_type": "markdown",
   "id": "1483ed70",
   "metadata": {},
   "source": [
    "### country with largest population in 2012\n",
    "China with 1,390,000,000\n",
    "\n",
    "### country with lowest pop in 2012\n",
    "Niue with 1,000"
   ]
  },
  {
   "cell_type": "code",
   "execution_count": null,
   "id": "c2e275b0",
   "metadata": {
    "scrolled": true
   },
   "outputs": [],
   "source": [
    "gpn_2012.Pop_In_Thousands.max()"
   ]
  },
  {
   "cell_type": "code",
   "execution_count": null,
   "id": "764c9ee0",
   "metadata": {},
   "outputs": [],
   "source": [
    "gpn_2012.Pop_In_Thousands.idxmax()"
   ]
  },
  {
   "cell_type": "code",
   "execution_count": null,
   "id": "ec28ed3a",
   "metadata": {},
   "outputs": [],
   "source": [
    "display(gpn_2012.iloc[42])"
   ]
  },
  {
   "cell_type": "code",
   "execution_count": null,
   "id": "c75d7b62",
   "metadata": {},
   "outputs": [],
   "source": [
    "gpn_2012.nlargest(1, 'Pop_In_Thousands')"
   ]
  },
  {
   "cell_type": "code",
   "execution_count": null,
   "id": "a36dc505",
   "metadata": {},
   "outputs": [],
   "source": [
    "gpn_2012.Pop_In_Thousands.idxmin()"
   ]
  },
  {
   "cell_type": "code",
   "execution_count": null,
   "id": "79b5957a",
   "metadata": {
    "scrolled": true
   },
   "outputs": [],
   "source": [
    "display(gpn_2012.iloc[257])"
   ]
  },
  {
   "cell_type": "code",
   "execution_count": null,
   "id": "02e89490",
   "metadata": {},
   "outputs": [],
   "source": [
    "gpn_2012.nsmallest(1, 'Pop_In_Thousands')"
   ]
  },
  {
   "cell_type": "code",
   "execution_count": null,
   "id": "9f4983e5",
   "metadata": {},
   "outputs": [],
   "source": [
    "gpn_2012.head(2)"
   ]
  },
  {
   "cell_type": "markdown",
   "id": "f806eab1",
   "metadata": {},
   "source": [
    "### I should find and remove the pop outliers in the below plot to better view the trend in pop vs gdp"
   ]
  },
  {
   "cell_type": "code",
   "execution_count": null,
   "id": "ff55cec1",
   "metadata": {},
   "outputs": [],
   "source": [
    "plt.scatter(gpn_2012.Pop_In_Thousands, gpn_2012.GDP_Per_Capita,\n",
    "           color = 'goldenrod')\n",
    "plt.xlabel('Population in Thousands')\n",
    "plt.ylabel('GDP per Capita')\n",
    "plt.title('Population vs GDP',\n",
    "         fontweight = 'bold')"
   ]
  },
  {
   "cell_type": "code",
   "execution_count": null,
   "id": "9df3f589",
   "metadata": {},
   "outputs": [],
   "source": [
    "# china and india are outliers here so ill remove those from the data frame \n",
    "gpn_2012.sort_values(by = 'Pop_In_Thousands', ascending = False)"
   ]
  },
  {
   "cell_type": "code",
   "execution_count": null,
   "id": "af869283",
   "metadata": {},
   "outputs": [],
   "source": [
    "gpn_2012_cut = gpn_2012.drop([42, 97])\n",
    "gpn_2012_cut.sort_values(by = 'Pop_In_Thousands', ascending = False)"
   ]
  },
  {
   "cell_type": "markdown",
   "id": "95ce7104",
   "metadata": {},
   "source": [
    "## population does not seem to affect gdp, if anything, lower populations vary more in gdp outcome, and higher populations have a lower gdp?"
   ]
  },
  {
   "cell_type": "code",
   "execution_count": null,
   "id": "0b3f0199",
   "metadata": {
    "scrolled": true
   },
   "outputs": [],
   "source": [
    "plt.scatter(gpn_2012_cut.Pop_In_Thousands, gpn_2012_cut.GDP_Per_Capita, \n",
    "            color = 'olivedrab')\n",
    "plt.xlabel('Population in Thousands')\n",
    "plt.ylabel('GDP per Capita')\n",
    "plt.title('Population vs GDP outliers removed',\n",
    "         fontweight = 'bold')"
   ]
  },
  {
   "cell_type": "markdown",
   "id": "5284676d",
   "metadata": {},
   "source": [
    "### is there a correlation between population and internet use?\n",
    "population was probably not the best set to bring in, there isnt really a correlation "
   ]
  },
  {
   "cell_type": "code",
   "execution_count": null,
   "id": "e2256fdd",
   "metadata": {},
   "outputs": [],
   "source": [
    "plt.scatter(gpn_2012_cut.Pop_In_Thousands, gpn_2012_cut.Internet_Users_Pct,\n",
    "            color = 'slategray')\n",
    "plt.xlabel('Population in Thousands')\n",
    "plt.ylabel('Percent Internet Users')\n",
    "plt.title('Population vs Internet Use outliers removed',\n",
    "         fontweight = 'bold')"
   ]
  },
  {
   "cell_type": "code",
   "execution_count": null,
   "id": "c0c1baba",
   "metadata": {},
   "outputs": [],
   "source": []
  }
 ],
 "metadata": {
  "kernelspec": {
   "display_name": "Python 3 (ipykernel)",
   "language": "python",
   "name": "python3"
  },
  "language_info": {
   "codemirror_mode": {
    "name": "ipython",
    "version": 3
   },
   "file_extension": ".py",
   "mimetype": "text/x-python",
   "name": "python",
   "nbconvert_exporter": "python",
   "pygments_lexer": "ipython3",
   "version": "3.9.7"
  }
 },
 "nbformat": 4,
 "nbformat_minor": 5
}
